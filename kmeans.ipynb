{
 "cells": [
  {
   "cell_type": "markdown",
   "source": [
    "# Data Preparation"
   ],
   "metadata": {
    "collapsed": false
   }
  },
  {
   "cell_type": "code",
   "execution_count": 1003,
   "outputs": [],
   "source": [
    "import matplotlib.pyplot as plt\n",
    "import numpy as np\n",
    "import seaborn as sns\n",
    "import pandas as pd\n",
    "\n",
    "%matplotlib inline\n",
    "pd.set_option('display.max_columns', None)"
   ],
   "metadata": {
    "collapsed": false,
    "ExecuteTime": {
     "end_time": "2023-06-02T07:01:25.386193500Z",
     "start_time": "2023-06-02T07:01:25.220603Z"
    }
   }
  },
  {
   "cell_type": "code",
   "execution_count": 1004,
   "outputs": [],
   "source": [
    "df = pd.read_csv('factbook_tr.csv')"
   ],
   "metadata": {
    "collapsed": false,
    "ExecuteTime": {
     "end_time": "2023-06-02T07:01:25.548912100Z",
     "start_time": "2023-06-02T07:01:25.396075900Z"
    }
   }
  },
  {
   "cell_type": "code",
   "execution_count": 1005,
   "outputs": [
    {
     "data": {
      "text/plain": "        Exports       Imports  Industrial production growth rate  Investment  \\\n0  538800000000  401800000000                                6.6        24.0   \n1  893300000000  716700000000                                2.2        17.6   \n2  113000000000   36210000000                                2.8        17.2   \n3  162500000000   92910000000                                6.4        19.1   \n4  130700000000  121100000000                                4.7        20.4   \n\n   Unemployment rate  \n0                4.7  \n1               10.6  \n2               25.0  \n3                8.3  \n4                3.4  ",
      "text/html": "<div>\n<style scoped>\n    .dataframe tbody tr th:only-of-type {\n        vertical-align: middle;\n    }\n\n    .dataframe tbody tr th {\n        vertical-align: top;\n    }\n\n    .dataframe thead th {\n        text-align: right;\n    }\n</style>\n<table border=\"1\" class=\"dataframe\">\n  <thead>\n    <tr style=\"text-align: right;\">\n      <th></th>\n      <th>Exports</th>\n      <th>Imports</th>\n      <th>Industrial production growth rate</th>\n      <th>Investment</th>\n      <th>Unemployment rate</th>\n    </tr>\n  </thead>\n  <tbody>\n    <tr>\n      <th>0</th>\n      <td>538800000000</td>\n      <td>401800000000</td>\n      <td>6.6</td>\n      <td>24.0</td>\n      <td>4.7</td>\n    </tr>\n    <tr>\n      <th>1</th>\n      <td>893300000000</td>\n      <td>716700000000</td>\n      <td>2.2</td>\n      <td>17.6</td>\n      <td>10.6</td>\n    </tr>\n    <tr>\n      <th>2</th>\n      <td>113000000000</td>\n      <td>36210000000</td>\n      <td>2.8</td>\n      <td>17.2</td>\n      <td>25.0</td>\n    </tr>\n    <tr>\n      <th>3</th>\n      <td>162500000000</td>\n      <td>92910000000</td>\n      <td>6.4</td>\n      <td>19.1</td>\n      <td>8.3</td>\n    </tr>\n    <tr>\n      <th>4</th>\n      <td>130700000000</td>\n      <td>121100000000</td>\n      <td>4.7</td>\n      <td>20.4</td>\n      <td>3.4</td>\n    </tr>\n  </tbody>\n</table>\n</div>"
     },
     "execution_count": 1005,
     "metadata": {},
     "output_type": "execute_result"
    }
   ],
   "source": [
    "df = df[['Exports', 'Imports', 'Industrial production growth rate', 'Investment', 'Unemployment rate']]\n",
    "df.head()"
   ],
   "metadata": {
    "collapsed": false,
    "ExecuteTime": {
     "end_time": "2023-06-02T07:01:25.613960200Z",
     "start_time": "2023-06-02T07:01:25.552415300Z"
    }
   }
  },
  {
   "cell_type": "code",
   "execution_count": 1006,
   "outputs": [
    {
     "data": {
      "text/plain": "        Exports       Imports  Industrial production growth rate  Investment  \\\n0  538800000000  401800000000                                6.6        24.0   \n1  893300000000  716700000000                                2.2        17.6   \n2  113000000000   36210000000                                2.8        17.2   \n3  162500000000   92910000000                                6.4        19.1   \n4  130700000000  121100000000                                4.7        20.4   \n\n   Unemployment rate  Trade balance  Economic performance  \n0                4.7   137000000000                  35.3  \n1               10.6   176600000000                  30.4  \n2               25.0    76790000000                  45.0  \n3                8.3    69590000000                  33.8  \n4                3.4     9600000000                  28.5  ",
      "text/html": "<div>\n<style scoped>\n    .dataframe tbody tr th:only-of-type {\n        vertical-align: middle;\n    }\n\n    .dataframe tbody tr th {\n        vertical-align: top;\n    }\n\n    .dataframe thead th {\n        text-align: right;\n    }\n</style>\n<table border=\"1\" class=\"dataframe\">\n  <thead>\n    <tr style=\"text-align: right;\">\n      <th></th>\n      <th>Exports</th>\n      <th>Imports</th>\n      <th>Industrial production growth rate</th>\n      <th>Investment</th>\n      <th>Unemployment rate</th>\n      <th>Trade balance</th>\n      <th>Economic performance</th>\n    </tr>\n  </thead>\n  <tbody>\n    <tr>\n      <th>0</th>\n      <td>538800000000</td>\n      <td>401800000000</td>\n      <td>6.6</td>\n      <td>24.0</td>\n      <td>4.7</td>\n      <td>137000000000</td>\n      <td>35.3</td>\n    </tr>\n    <tr>\n      <th>1</th>\n      <td>893300000000</td>\n      <td>716700000000</td>\n      <td>2.2</td>\n      <td>17.6</td>\n      <td>10.6</td>\n      <td>176600000000</td>\n      <td>30.4</td>\n    </tr>\n    <tr>\n      <th>2</th>\n      <td>113000000000</td>\n      <td>36210000000</td>\n      <td>2.8</td>\n      <td>17.2</td>\n      <td>25.0</td>\n      <td>76790000000</td>\n      <td>45.0</td>\n    </tr>\n    <tr>\n      <th>3</th>\n      <td>162500000000</td>\n      <td>92910000000</td>\n      <td>6.4</td>\n      <td>19.1</td>\n      <td>8.3</td>\n      <td>69590000000</td>\n      <td>33.8</td>\n    </tr>\n    <tr>\n      <th>4</th>\n      <td>130700000000</td>\n      <td>121100000000</td>\n      <td>4.7</td>\n      <td>20.4</td>\n      <td>3.4</td>\n      <td>9600000000</td>\n      <td>28.5</td>\n    </tr>\n  </tbody>\n</table>\n</div>"
     },
     "execution_count": 1006,
     "metadata": {},
     "output_type": "execute_result"
    }
   ],
   "source": [
    "df['Trade balance'] = df['Exports'] - df['Imports']\n",
    "df['Economic performance'] = (df['Industrial production growth rate'] + df['Investment'] + df['Unemployment rate'])\n",
    "df.head()"
   ],
   "metadata": {
    "collapsed": false,
    "ExecuteTime": {
     "end_time": "2023-06-02T07:01:25.682231200Z",
     "start_time": "2023-06-02T07:01:25.630024200Z"
    }
   }
  },
  {
   "cell_type": "code",
   "execution_count": 1007,
   "outputs": [
    {
     "data": {
      "text/plain": "   Trade balance  Economic performance\n0   137000000000                  35.3\n1   176600000000                  30.4\n2    76790000000                  45.0\n3    69590000000                  33.8\n4     9600000000                  28.5",
      "text/html": "<div>\n<style scoped>\n    .dataframe tbody tr th:only-of-type {\n        vertical-align: middle;\n    }\n\n    .dataframe tbody tr th {\n        vertical-align: top;\n    }\n\n    .dataframe thead th {\n        text-align: right;\n    }\n</style>\n<table border=\"1\" class=\"dataframe\">\n  <thead>\n    <tr style=\"text-align: right;\">\n      <th></th>\n      <th>Trade balance</th>\n      <th>Economic performance</th>\n    </tr>\n  </thead>\n  <tbody>\n    <tr>\n      <th>0</th>\n      <td>137000000000</td>\n      <td>35.3</td>\n    </tr>\n    <tr>\n      <th>1</th>\n      <td>176600000000</td>\n      <td>30.4</td>\n    </tr>\n    <tr>\n      <th>2</th>\n      <td>76790000000</td>\n      <td>45.0</td>\n    </tr>\n    <tr>\n      <th>3</th>\n      <td>69590000000</td>\n      <td>33.8</td>\n    </tr>\n    <tr>\n      <th>4</th>\n      <td>9600000000</td>\n      <td>28.5</td>\n    </tr>\n  </tbody>\n</table>\n</div>"
     },
     "execution_count": 1007,
     "metadata": {},
     "output_type": "execute_result"
    }
   ],
   "source": [
    "df = df[['Trade balance', 'Economic performance']]\n",
    "df.head()"
   ],
   "metadata": {
    "collapsed": false,
    "ExecuteTime": {
     "end_time": "2023-06-02T07:01:25.826599400Z",
     "start_time": "2023-06-02T07:01:25.659642600Z"
    }
   }
  },
  {
   "cell_type": "markdown",
   "source": [
    "# Data Normalization"
   ],
   "metadata": {
    "collapsed": false
   }
  },
  {
   "cell_type": "code",
   "execution_count": 1008,
   "outputs": [],
   "source": [
    "# Membuat fungsi min-max scaler\n",
    "def minMax_scaler(df):\n",
    "    return (df - df.min()) / (df.max() - df.min())"
   ],
   "metadata": {
    "collapsed": false,
    "ExecuteTime": {
     "end_time": "2023-06-02T07:01:25.868451100Z",
     "start_time": "2023-06-02T07:01:25.693198900Z"
    }
   }
  },
  {
   "cell_type": "code",
   "execution_count": 1009,
   "outputs": [
    {
     "data": {
      "text/plain": "   Trade balance  Economic performance\n0       0.953825              0.318018\n1       1.000000              0.273874\n2       0.883617              0.405405\n3       0.875222              0.304505\n4       0.805271              0.256757",
      "text/html": "<div>\n<style scoped>\n    .dataframe tbody tr th:only-of-type {\n        vertical-align: middle;\n    }\n\n    .dataframe tbody tr th {\n        vertical-align: top;\n    }\n\n    .dataframe thead th {\n        text-align: right;\n    }\n</style>\n<table border=\"1\" class=\"dataframe\">\n  <thead>\n    <tr style=\"text-align: right;\">\n      <th></th>\n      <th>Trade balance</th>\n      <th>Economic performance</th>\n    </tr>\n  </thead>\n  <tbody>\n    <tr>\n      <th>0</th>\n      <td>0.953825</td>\n      <td>0.318018</td>\n    </tr>\n    <tr>\n      <th>1</th>\n      <td>1.000000</td>\n      <td>0.273874</td>\n    </tr>\n    <tr>\n      <th>2</th>\n      <td>0.883617</td>\n      <td>0.405405</td>\n    </tr>\n    <tr>\n      <th>3</th>\n      <td>0.875222</td>\n      <td>0.304505</td>\n    </tr>\n    <tr>\n      <th>4</th>\n      <td>0.805271</td>\n      <td>0.256757</td>\n    </tr>\n  </tbody>\n</table>\n</div>"
     },
     "execution_count": 1009,
     "metadata": {},
     "output_type": "execute_result"
    }
   ],
   "source": [
    "df = df.apply(minMax_scaler)\n",
    "df.head()"
   ],
   "metadata": {
    "collapsed": false,
    "ExecuteTime": {
     "end_time": "2023-06-02T07:01:25.899653100Z",
     "start_time": "2023-06-02T07:01:25.708390600Z"
    }
   }
  },
  {
   "cell_type": "markdown",
   "source": [
    "# Define Function"
   ],
   "metadata": {
    "collapsed": false
   }
  },
  {
   "cell_type": "code",
   "execution_count": 1010,
   "outputs": [],
   "source": [
    "# Membuat centroid secara random\n",
    "def random_centroid(df, k):\n",
    "    random_idx = [np.random.randint(len(df)) for _ in range(k)]\n",
    "    centroids = []\n",
    "    for i in random_idx:\n",
    "        centroids.append(df.iloc[i])\n",
    "    return centroids"
   ],
   "metadata": {
    "collapsed": false,
    "ExecuteTime": {
     "end_time": "2023-06-02T07:01:25.899653100Z",
     "start_time": "2023-06-02T07:01:25.740847900Z"
    }
   }
  },
  {
   "cell_type": "code",
   "execution_count": 1011,
   "outputs": [],
   "source": [
    "# Mendefinisikan cluster menggunakan euclidean distance\n",
    "def assign_cluster(df, initial_centroid, k):\n",
    "    cluster = []\n",
    "    for i in range(len(df)):\n",
    "        euclidean_distance = []\n",
    "        for j in range(k):\n",
    "            euclidean_distance.append(np.linalg.norm(np.subtract(df.iloc[i], initial_centroid[j])))\n",
    "        cluster.append(np.argmin(euclidean_distance))\n",
    "    return cluster"
   ],
   "metadata": {
    "collapsed": false,
    "ExecuteTime": {
     "end_time": "2023-06-02T07:01:25.984563500Z",
     "start_time": "2023-06-02T07:01:25.757436300Z"
    }
   }
  },
  {
   "cell_type": "code",
   "execution_count": 1012,
   "outputs": [],
   "source": [
    "# Menghitung centroid hingga konvergen\n",
    "def compute_centroid(df, cluster, k):\n",
    "    centroids = []\n",
    "    for i in range(k):\n",
    "        temp = []\n",
    "        for j in range(len(df)):\n",
    "            if cluster[j] == i:\n",
    "                temp.append(df.iloc[j])\n",
    "        centroids.append(np.mean(temp, axis=0))\n",
    "    return centroids"
   ],
   "metadata": {
    "collapsed": false,
    "ExecuteTime": {
     "end_time": "2023-06-02T07:01:25.984563500Z",
     "start_time": "2023-06-02T07:01:25.773897Z"
    }
   }
  },
  {
   "cell_type": "code",
   "execution_count": 1013,
   "outputs": [],
   "source": [
    "# Menghitung perbedaan centroid lama dan centroid baru\n",
    "def difference(old, new):\n",
    "    diff = 0\n",
    "    for i in range(len(old)):\n",
    "        diff += np.linalg.norm(np.subtract(old[i], new[i]))\n",
    "    return diff"
   ],
   "metadata": {
    "collapsed": false,
    "ExecuteTime": {
     "end_time": "2023-06-02T07:01:25.984563500Z",
     "start_time": "2023-06-02T07:01:25.785793600Z"
    }
   }
  },
  {
   "cell_type": "markdown",
   "source": [
    "# K-Means Clustering"
   ],
   "metadata": {
    "collapsed": false
   }
  },
  {
   "cell_type": "code",
   "execution_count": 1014,
   "outputs": [],
   "source": [
    "# Menampilkan cluster dan centroid\n",
    "def show_cluster(df, cluster, k):\n",
    "    df['cluster'] = cluster\n",
    "    plt.figure(figsize=(8, 8))\n",
    "    sns.scatterplot(x='Trade balance',\n",
    "                    y='Economic performance',\n",
    "                    hue='cluster',\n",
    "                    data=df,\n",
    "                    palette='Set1')\n",
    "    plt.title(f'K-Means Clustering (k={k})')\n",
    "    for i in range(k):\n",
    "        plt.scatter(x=df[df['cluster'] == i]['Trade balance'].mean(),\n",
    "                    y=df[df['cluster'] == i]['Economic performance'].mean(),\n",
    "                    s=200, c='black', marker='*')\n",
    "    plt.show()"
   ],
   "metadata": {
    "collapsed": false,
    "ExecuteTime": {
     "end_time": "2023-06-02T07:01:26.040929900Z",
     "start_time": "2023-06-02T07:01:25.807126900Z"
    }
   }
  },
  {
   "cell_type": "code",
   "execution_count": 1015,
   "outputs": [],
   "source": [
    "# Memanggil fungsi k-means\n",
    "def k_means(df, k):\n",
    "    initial_centroid = random_centroid(df, k)\n",
    "    cluster = assign_cluster(df, initial_centroid, k)\n",
    "    new_centroid = compute_centroid(df, cluster, k)\n",
    "    while difference(initial_centroid, new_centroid) > 0.001:\n",
    "        initial_centroid = new_centroid\n",
    "        cluster = assign_cluster(df, initial_centroid, k)\n",
    "        new_centroid = compute_centroid(df, cluster, k)\n",
    "    show_cluster(df, cluster, k)"
   ],
   "metadata": {
    "collapsed": false,
    "ExecuteTime": {
     "end_time": "2023-06-02T07:01:26.040929900Z",
     "start_time": "2023-06-02T07:01:25.826599400Z"
    }
   }
  },
  {
   "cell_type": "markdown",
   "source": [
    "# Inertia with Elbow Method"
   ],
   "metadata": {
    "collapsed": false
   }
  },
  {
   "cell_type": "code",
   "execution_count": 1016,
   "outputs": [],
   "source": [
    "# Menghitung inertia untuk setiap cluster\n",
    "def inertia(df, cluster, k):\n",
    "    inertia = []\n",
    "    for i in range(k):\n",
    "        temp = []\n",
    "        for j in range(len(df)):\n",
    "            if cluster[j] == i:\n",
    "                temp.append(df.iloc[j])\n",
    "        inertia.append(np.sum(np.linalg.norm(np.subtract(temp, np.mean(temp, axis=0)), axis=1)))\n",
    "    return np.sum(inertia)"
   ],
   "metadata": {
    "collapsed": false,
    "ExecuteTime": {
     "end_time": "2023-06-02T07:01:26.042118800Z",
     "start_time": "2023-06-02T07:01:25.835828300Z"
    }
   }
  },
  {
   "cell_type": "code",
   "execution_count": 1017,
   "outputs": [],
   "source": [
    "# Menghitung nilai inertia untuk setiap k\n",
    "def k_means_inertia(df, n_cluster):\n",
    "    initial_centroid = random_centroid(df, n_cluster)\n",
    "    cluster = assign_cluster(df, initial_centroid, n_cluster)\n",
    "    new_centroid = compute_centroid(df, cluster, n_cluster)\n",
    "    while difference(initial_centroid, new_centroid) > 0.001:\n",
    "        initial_centroid = new_centroid\n",
    "        cluster = assign_cluster(df, initial_centroid, n_cluster)\n",
    "        new_centroid = compute_centroid(df, cluster, n_cluster)\n",
    "    return inertia(df, cluster, n_cluster)"
   ],
   "metadata": {
    "collapsed": false,
    "ExecuteTime": {
     "end_time": "2023-06-02T07:01:26.043314600Z",
     "start_time": "2023-06-02T07:01:25.846346600Z"
    }
   }
  },
  {
   "cell_type": "code",
   "execution_count": 1018,
   "outputs": [
    {
     "name": "stdout",
     "output_type": "stream",
     "text": [
      "Inertia k=1: 17.120228497890615\n",
      "Inertia k=2: 12.900327560841495\n",
      "Inertia k=3: 9.610994465579813\n",
      "Inertia k=4: 8.317356494998181\n",
      "Inertia k=5: 7.576101599231637\n"
     ]
    }
   ],
   "source": [
    "for i in range(1, 6):\n",
    "    print(f'Inertia k={i}: {k_means_inertia(df, i)}')"
   ],
   "metadata": {
    "collapsed": false,
    "ExecuteTime": {
     "end_time": "2023-06-02T07:01:32.314914700Z",
     "start_time": "2023-06-02T07:01:25.862474500Z"
    }
   }
  },
  {
   "cell_type": "code",
   "execution_count": 1019,
   "outputs": [],
   "source": [
    "# Menampilkan grafik inertia untuk setiap k\n",
    "def elbow_method(df, k):\n",
    "    inertia_list = []\n",
    "    for i in range(1, k+1):\n",
    "        initial_centroid = random_centroid(df, i)\n",
    "        cluster = assign_cluster(df, initial_centroid, i)\n",
    "        new_centroid = compute_centroid(df, cluster, i)\n",
    "        while difference(initial_centroid, new_centroid) > 0.001:\n",
    "            initial_centroid = new_centroid\n",
    "            cluster = assign_cluster(df, initial_centroid, i)\n",
    "            new_centroid = compute_centroid(df, cluster, i)\n",
    "        inertia_list.append(inertia(df, cluster, i))\n",
    "\n",
    "    plt.figure(figsize=(8, 8))\n",
    "    plt.plot(range(1, k+1), inertia_list, marker='o')\n",
    "    for i, v in enumerate(inertia_list):\n",
    "        plt.text(i+1, v, round(v, 2), ha='center', va='bottom')\n",
    "    plt.xlabel('Number of cluster')\n",
    "    plt.ylabel('Inertia')\n",
    "    plt.show()"
   ],
   "metadata": {
    "collapsed": false,
    "ExecuteTime": {
     "end_time": "2023-06-02T07:01:32.371421800Z",
     "start_time": "2023-06-02T07:01:32.325380600Z"
    }
   }
  },
  {
   "cell_type": "markdown",
   "source": [
    "# Elbow Method and K-Means Visualization"
   ],
   "metadata": {
    "collapsed": false
   }
  },
  {
   "cell_type": "code",
   "execution_count": 1020,
   "outputs": [
    {
     "data": {
      "text/plain": "<Figure size 576x576 with 1 Axes>",
      "image/png": "[encoded data removed]"
     },
     "metadata": {
      "needs_background": "light"
     },
     "output_type": "display_data"
    }
   ],
   "source": [
    "elbow_method(df, 5)"
   ],
   "metadata": {
    "collapsed": false,
    "ExecuteTime": {
     "end_time": "2023-06-02T07:01:37.942551900Z",
     "start_time": "2023-06-02T07:01:32.347499100Z"
    }
   }
  },
  {
   "cell_type": "markdown",
   "source": [
    "Berdasarkan grafik diatas, dapat dilihat bahwa nilai inertia menurun drastis pada k=2 dan k=3. Oleh karena itu, nilai k yang digunakan adalah 3."
   ],
   "metadata": {
    "collapsed": false
   }
  },
  {
   "cell_type": "code",
   "execution_count": 1021,
   "outputs": [
    {
     "data": {
      "text/plain": "<Figure size 576x576 with 1 Axes>",
      "image/png": "[encoded data removed]"
     },
     "metadata": {
      "needs_background": "light"
     },
     "output_type": "display_data"
    }
   ],
   "source": [
    "k_means(df, 3)"
   ],
   "metadata": {
    "collapsed": false,
    "ExecuteTime": {
     "end_time": "2023-06-02T07:01:39.676488700Z",
     "start_time": "2023-06-02T07:01:37.970467700Z"
    }
   }
  }
 ],
 "metadata": {
  "kernelspec": {
   "display_name": "Python 3",
   "language": "python",
   "name": "python3"
  },
  "language_info": {
   "codemirror_mode": {
    "name": "ipython",
    "version": 2
   },
   "file_extension": ".py",
   "mimetype": "text/x-python",
   "name": "python",
   "nbconvert_exporter": "python",
   "pygments_lexer": "ipython2",
   "version": "2.7.6"
  }
 },
 "nbformat": 4,
 "nbformat_minor": 0
}
